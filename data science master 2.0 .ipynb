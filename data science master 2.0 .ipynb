{
 "cells": [
  {
   "cell_type": "code",
   "execution_count": 2,
   "id": "8e00ec51-01b0-4038-a62b-b0c6dfaf1f5e",
   "metadata": {},
   "outputs": [
    {
     "name": "stdout",
     "output_type": "stream",
     "text": [
      "Sorted list of tuples based on integer value (runs scored):\n",
      "('Sachin Tendulkar', 34357)\n",
      "('Ricky Ponting', 27483)\n",
      "('Jack Kallis', 25534)\n",
      "('Virat Kohli', 24936)\n"
     ]
    }
   ],
   "source": [
    "# Q1. Create a python program to sort the given list of tuples based on integer value using a lambda function.\n",
    "# [('Sachin Tendulkar', 34357), ('Ricky Ponting', 27483), ('Jack Kallis', 25534), ('Virat Kohli', 24936)]\n",
    "# Ans>>\n",
    "list_of_tuples = [('Sachin Tendulkar', 34357), ('Ricky Ponting', 27483), ('Jack Kallis', 25534), ('Virat Kohli', 24936)]\n",
    "sorted_list = sorted(list_of_tuples, key=lambda x: x[1], reverse=True)\n",
    "print(\"Sorted list of tuples based on integer value (runs scored):\")\n",
    "for item in sorted_list:\n",
    "    print(item)\n",
    "\n"
   ]
  },
  {
   "cell_type": "code",
   "execution_count": 3,
   "id": "3743e128-37d9-4493-9ab1-3d7c53c6da9e",
   "metadata": {},
   "outputs": [
    {
     "name": "stdout",
     "output_type": "stream",
     "text": [
      "Squares of numbers in the given list:\n",
      "[1, 4, 9, 16, 25, 36, 49, 64, 81, 100]\n"
     ]
    }
   ],
   "source": [
    "# Q2. Write a Python Program to find the squares of all the numbers in the given list of integers using lambda and map functions.\n",
    "# [1, 2, 3, 4, 5, 6, 7, 8, 9, 10]\n",
    "# Ans>>\n",
    "numbers = [1, 2, 3, 4, 5, 6, 7, 8, 9, 10]\n",
    "squared_numbers = list(map(lambda x: x ** 2, numbers))\n",
    "print(\"Squares of numbers in the given list:\")\n",
    "print(squared_numbers)\n"
   ]
  },
  {
   "cell_type": "code",
   "execution_count": 4,
   "id": "424267d4-faf9-4b41-8660-3de76cd2468f",
   "metadata": {},
   "outputs": [
    {
     "name": "stdout",
     "output_type": "stream",
     "text": [
      "Tuple of strings from the given list of integers:\n",
      "('1', '2', '3', '4', '5', '6', '7', '8', '9', '10')\n"
     ]
    }
   ],
   "source": [
    "# Q3. Write a python program to convert the given list of integers into a tuple of strings. Use map and lambda functions.\n",
    "# Given String: [1, 2, 3, 4, 5, 6, 7, 8, 9, 10]\n",
    "# Expected output: ('1', '2', '3', '4', '5', '6', '7', '8', '9', '10')\n",
    "# Ans>>\n",
    "numbers = [1, 2, 3, 4, 5, 6, 7, 8, 9, 10]\n",
    "tuple_of_strings = tuple(map(lambda x: str(x), numbers))\n",
    "print(\"Tuple of strings from the given list of integers:\")\n",
    "print(tuple_of_strings)\n"
   ]
  },
  {
   "cell_type": "code",
   "execution_count": 5,
   "id": "3383eab1-d80c-4011-b523-12f3a79a7744",
   "metadata": {},
   "outputs": [
    {
     "name": "stdout",
     "output_type": "stream",
     "text": [
      "Product of numbers from 1 to 25: 15511210043330985984000000\n"
     ]
    }
   ],
   "source": [
    "# Q4. Write a python program using reduce function to compute the product of a list containing numbers from 1 to 25.\n",
    "# Ans>>\n",
    "from functools import reduce\n",
    "def multiply(x, y):\n",
    "    return x * y\n",
    "numbers = list(range(1, 26))\n",
    "product = reduce(multiply, numbers)\n",
    "print(\"Product of numbers from 1 to 25:\", product)\n"
   ]
  },
  {
   "cell_type": "code",
   "execution_count": 7,
   "id": "45568e8c-5e8f-4b1f-a650-159325da20f3",
   "metadata": {},
   "outputs": [
    {
     "name": "stdout",
     "output_type": "stream",
     "text": [
      "Numbers divisible by both 2 and 3 in the given list:\n",
      "[6, 60, 90, 120]\n"
     ]
    }
   ],
   "source": [
    "# Q5. Write a python program to filter the numbers in a given list that are divisible by 2 and 3 using the filter function.\n",
    "# [2, 3, 6, 9, 27, 60, 90, 120, 55, 46]\n",
    "# Ans>>\n",
    "numbers = [2, 3, 6, 9, 27, 60, 90, 120, 55, 46]\n",
    "filtered_numbers = list(filter(lambda x: x % 2 == 0 and x % 3 == 0, numbers))\n",
    "print(\"Numbers divisible by both 2 and 3 in the given list:\")\n",
    "print(filtered_numbers)\n"
   ]
  },
  {
   "cell_type": "code",
   "execution_count": 9,
   "id": "f4974e50-51b6-4034-99de-567aa5cfeea2",
   "metadata": {},
   "outputs": [
    {
     "name": "stdout",
     "output_type": "stream",
     "text": [
      "Palindromes in the given list of strings:\n",
      "['php', 'aba', 'radar', 'level']\n"
     ]
    }
   ],
   "source": [
    "# Q6. Write a python program to find palindromes in the given list of strings using lambda and filter function.\n",
    "# ['python', 'php', 'aba', 'radar', 'level']\n",
    "# Ans>>\n",
    "strings = ['python', 'php', 'aba', 'radar', 'level']\n",
    "palindromes = list(filter(lambda x: x == x[::-1], strings))\n",
    "print(\"Palindromes in the given list of strings:\")\n",
    "print(palindromes)\n",
    "\n"
   ]
  },
  {
   "cell_type": "code",
   "execution_count": null,
   "id": "53294025-2f27-48df-84b0-c713d8bb7ac3",
   "metadata": {},
   "outputs": [],
   "source": []
  }
 ],
 "metadata": {
  "kernelspec": {
   "display_name": "Python 3 (ipykernel)",
   "language": "python",
   "name": "python3"
  },
  "language_info": {
   "codemirror_mode": {
    "name": "ipython",
    "version": 3
   },
   "file_extension": ".py",
   "mimetype": "text/x-python",
   "name": "python",
   "nbconvert_exporter": "python",
   "pygments_lexer": "ipython3",
   "version": "3.10.8"
  }
 },
 "nbformat": 4,
 "nbformat_minor": 5
}
